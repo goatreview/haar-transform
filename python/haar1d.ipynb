{
 "cells": [
  {
   "cell_type": "code",
   "execution_count": 133,
   "id": "aa039234-9719-4c61-b4ad-ab6331f2de27",
   "metadata": {
    "tags": []
   },
   "outputs": [],
   "source": [
    "import tensorflow as tf\n",
    "import keras\n",
    "from keras import layers,Model\n",
    "import numpy as np"
   ]
  },
  {
   "cell_type": "code",
   "execution_count": 134,
   "id": "fbd27603-d477-4a21-ab4a-e51c42576ec6",
   "metadata": {
    "tags": []
   },
   "outputs": [],
   "source": [
    "v = tf.Variable([4,6,7,8,8,8,9,7],dtype=tf.float32)"
   ]
  },
  {
   "cell_type": "code",
   "execution_count": 135,
   "id": "3c3c97b5-2dc1-4afb-9326-d2298f349663",
   "metadata": {},
   "outputs": [],
   "source": [
    "def haar1d(x):\n",
    "    len = tf.shape(x)[0]\n",
    "    if (len==1):\n",
    "        return x[0:1]\n",
    "    v_reshape = tf.reshape(x,[(len//2),2])\n",
    "    v_diff = v_reshape[:,1:2] - v_reshape[:,0:1]\n",
    "    v_diff = tf.reshape(v_diff,[-1])\n",
    "    v_avg = tf.reduce_mean(v_reshape,axis=1)\n",
    "    return tf.concat([v_diff,haar1d(v_avg)],0)"
   ]
  },
  {
   "cell_type": "code",
   "execution_count": 136,
   "id": "1c0c3646-a266-4012-8851-8eb3be43be64",
   "metadata": {
    "tags": []
   },
   "outputs": [],
   "source": [
    "def haar1d_inv(x,idx):\n",
    "\tlen = tf.shape(x)[0]\n",
    "\tif (idx==len):\n",
    "\t\treturn x\n",
    "#\tprint(idx,x)\n",
    "\tv_avg = x[-idx:]\n",
    "\tv_avg = tf.reshape(v_avg,[-1,1])\n",
    "\tv_delta = x[(len-(idx<<1)):(len-idx)] / 2\n",
    "\tv_delta = tf.stack([-v_delta,v_delta],axis=1)\n",
    "\tv_out = v_delta + v_avg\n",
    "\tv_out = tf.reshape(v_out,[-1])\n",
    "\treturn haar1d_inv(tf.concat([x[:-(idx<<1)],v_out],axis=0),idx<<1)\n"
   ]
  },
  {
   "cell_type": "code",
   "execution_count": 137,
   "id": "d939ac39",
   "metadata": {},
   "outputs": [
    {
     "name": "stdout",
     "output_type": "stream",
     "text": [
      "<tf.Variable 'Variable:0' shape=(8,) dtype=float32, numpy=array([4., 6., 7., 8., 8., 8., 9., 7.], dtype=float32)>\n",
      "tf.Tensor([ 2.     1.     0.    -2.     2.5    0.     1.75   7.125], shape=(8,), dtype=float32)\n",
      "tf.Tensor([4. 6. 7. 8. 8. 8. 9. 7.], shape=(8,), dtype=float32)\n"
     ]
    }
   ],
   "source": [
    "encoded = haar1d(v)\n",
    "decoded = haar1d_inv(encoded,1)\n",
    "\n",
    "print(v)\n",
    "print(encoded)\n",
    "print(decoded)"
   ]
  },
  {
   "cell_type": "code",
   "execution_count": 138,
   "id": "3d5b6fec-6dc3-4302-a706-c772c016dd32",
   "metadata": {
    "tags": []
   },
   "outputs": [],
   "source": [
    "def haar1d_layer(x):\n",
    "    len = x.shape[1]\n",
    "    if (len==1):\n",
    "        return x[:,0:1]\n",
    "    v_reshape = tf.reshape(x,[-1,len//2,2])\n",
    "    v_diff = v_reshape[:,:,1:2]- v_reshape[:,:,0:1]\n",
    "    v_diff = tf.reshape(v_diff,[-1,len//2])\n",
    "    v_avg = tf.reduce_mean(v_reshape,axis=2)\n",
    "    return tf.concat([v_diff,haar1d_layer(v_avg)],1)"
   ]
  },
  {
   "cell_type": "code",
   "execution_count": 139,
   "id": "b6d310bc",
   "metadata": {},
   "outputs": [],
   "source": [
    "def haar1d_inv_layer(x,idx):\n",
    "\tlen = x.shape[1]\n",
    "\tif (idx==len):\n",
    "\t\treturn x\n",
    "\t#print(idx,x.shape)\n",
    "\tv_avg = x[:,-idx:]\n",
    "\tv_avg = tf.reshape(v_avg,[-1,v_avg.shape[1],1])\n",
    "\tv_delta = x[:,(len-(idx<<1)):(len-idx)] / 2\n",
    "\tv_delta = tf.stack([-v_delta,v_delta],axis=2)\n",
    "\tv_out = v_delta + v_avg\n",
    "\tv_out = tf.reshape(v_out, [-1,v_out.shape[1] * v_out.shape[2]])\n",
    "\treturn haar1d_inv_layer(tf.concat([x[:,:-(idx<<1)],v_out],axis=1),idx<<1)"
   ]
  },
  {
   "cell_type": "code",
   "execution_count": 140,
   "id": "d429d4c7-bec4-4fa3-874e-43e17f4fa1ff",
   "metadata": {
    "tags": []
   },
   "outputs": [],
   "source": [
    "x = layers.Input(shape=(8,))"
   ]
  },
  {
   "cell_type": "code",
   "execution_count": 144,
   "id": "58965429-fad3-4e16-9b46-c09a7ee90674",
   "metadata": {
    "tags": []
   },
   "outputs": [
    {
     "name": "stdout",
     "output_type": "stream",
     "text": [
      "1/1 [==============================] - 0s 140ms/step\n",
      "1/1 [==============================] - 0s 157ms/step\n",
      "[[ 2.     1.     0.    -2.     2.5    0.     1.75   7.125]\n",
      " [ 2.     1.     0.    -2.     2.5    0.     1.75   7.125]]\n",
      "[[4. 6. 7. 8. 8. 8. 9. 7.]\n",
      " [4. 6. 7. 8. 8. 8. 9. 7.]]\n"
     ]
    }
   ],
   "source": [
    "\n",
    "y = haar1d_layer(x)\n",
    "encoder = Model(x, y)\n",
    "encoded = encoder.predict([[4,6,7,8,8,8,9,7],[4,6,7,8,8,8,9,7]])\n",
    "z = haar1d_inv_layer(x,1)\n",
    "decoder = Model(x, z)\n",
    "decoded = decoder.predict(encoded)\n",
    "\n",
    "print(encoded)\n",
    "print(decoded)"
   ]
  },
  {
   "cell_type": "code",
   "execution_count": 142,
   "id": "fab83aca-cf4f-4c81-9ccd-16c8acfb566c",
   "metadata": {
    "tags": []
   },
   "outputs": [
    {
     "name": "stdout",
     "output_type": "stream",
     "text": [
      "512/512 [==============================] - 2s 5ms/step\n"
     ]
    }
   ],
   "source": [
    "o = model.predict(np.repeat([[4.,6.,7.,8.,8.,8.,9.,7.]],16384,axis=0))"
   ]
  },
  {
   "cell_type": "code",
   "execution_count": 143,
   "id": "7e795b0d-cf2f-424d-a41b-9ef7cbaef59f",
   "metadata": {
    "tags": []
   },
   "outputs": [
    {
     "data": {
      "text/plain": [
       "array([[2.   , 1.   , 0.   , ..., 0.   , 1.75 , 7.125],\n",
       "       [2.   , 1.   , 0.   , ..., 0.   , 1.75 , 7.125],\n",
       "       [2.   , 1.   , 0.   , ..., 0.   , 1.75 , 7.125],\n",
       "       ...,\n",
       "       [2.   , 1.   , 0.   , ..., 0.   , 1.75 , 7.125],\n",
       "       [2.   , 1.   , 0.   , ..., 0.   , 1.75 , 7.125],\n",
       "       [2.   , 1.   , 0.   , ..., 0.   , 1.75 , 7.125]], dtype=float32)"
      ]
     },
     "execution_count": 143,
     "metadata": {},
     "output_type": "execute_result"
    }
   ],
   "source": [
    "o"
   ]
  }
 ],
 "metadata": {
  "kernelspec": {
   "display_name": "Python 3 (ipykernel)",
   "language": "python",
   "name": "python3"
  },
  "language_info": {
   "codemirror_mode": {
    "name": "ipython",
    "version": 3
   },
   "file_extension": ".py",
   "mimetype": "text/x-python",
   "name": "python",
   "nbconvert_exporter": "python",
   "pygments_lexer": "ipython3",
   "version": "3.8.10"
  }
 },
 "nbformat": 4,
 "nbformat_minor": 5
}
