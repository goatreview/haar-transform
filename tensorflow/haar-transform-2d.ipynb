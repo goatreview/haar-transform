{
 "cells": [
  {
   "cell_type": "code",
   "execution_count": 128,
   "id": "aa039234-9719-4c61-b4ad-ab6331f2de27",
   "metadata": {
    "tags": []
   },
   "outputs": [],
   "source": [
    "import tensorflow as tf\n",
    "import numpy as np\n",
    "from keras import layers, Model"
   ]
  },
  {
   "cell_type": "code",
   "execution_count": 129,
   "id": "969b9b0c-6c16-4c15-afa8-fb8e9cc20a0e",
   "metadata": {
    "tags": []
   },
   "outputs": [],
   "source": [
    "inputs = np.arange(16).reshape(4,4)\n",
    "# tf.constant(inputs) => crée un Tensor avec l'inputs\n",
    "tensor_inputs = tf.constant(inputs)"
   ]
  },
  {
   "cell_type": "code",
   "execution_count": 132,
   "id": "2870267d-6a13-4944-9ecc-e94708b0921f",
   "metadata": {
    "tags": []
   },
   "outputs": [],
   "source": [
    "def encode_haar(inputs):\n",
    "    length = tf.shape(inputs)[0]\n",
    "    # index = tf.cast(tf.divide(length, 2), tf.int64)\n",
    "    \n",
    "    indexes = tf.constant([[[0,0],[0,2],[2,0],[2,2]],\n",
    "                           [[1,1],[1,3],[3,1],[3,3]],\n",
    "                           [[0,1],[0,3],[2,1],[2,3]],\n",
    "                           [[1,0],[1,2],[3,0],[3,2]]]) \n",
    "    \n",
    "    slice_inputs = [tf.gather_nd(inputs, indexes[0]), tf.gather_nd(inputs, indexes[1]), tf.gather_nd(inputs, indexes[2]), tf.gather_nd(inputs, indexes[3])]\n",
    "    slice_inputs = tf.reshape(slice_inputs, [length,2,2])\n",
    "    \n",
    "    tensor_average = tf.TensorArray(tf.int64, size=length, dynamic_size=False)\n",
    "    for i in range(length):\n",
    "        tensor_average = tensor_average.write(i, tf.reduce_mean(slice_inputs[i]))\n",
    "    m_average = tf.reshape(tensor_average.stack(), [length,1])\n",
    "    \n",
    "    tensor_diff_rows = tf.TensorArray(tf.int64, size=length, dynamic_size=False)\n",
    "    for i in range(length):\n",
    "        tensor_diff_rows = tensor_diff_rows.write(i, tf.reduce_sum(slice_inputs[i][0,:]) - tf.reduce_sum(slice_inputs[i][1,:]))\n",
    "    m_diff_rows = tf.reshape(tensor_diff_rows.stack(), [length,1])\n",
    "    \n",
    "    tensor_diff_cols = tf.TensorArray(tf.int64, size=length, dynamic_size=False)\n",
    "    for i in range(length):\n",
    "        tensor_diff_cols = tensor_diff_cols.write(i, tf.reduce_sum(slice_inputs[i][:,0]) - tf.reduce_sum(slice_inputs[i][:,1]))\n",
    "    m_diff_cols = tf.reshape(tensor_diff_cols.stack(), [length,1])\n",
    "\n",
    "    tensor_diff_diagonals = tf.TensorArray(tf.int64, size=length, dynamic_size=False)\n",
    "    for i in range(length):\n",
    "        tensor_diff_diagonals = tensor_diff_diagonals.write(i, slice_inputs[i][0,0] + slice_inputs[i][1,1] - slice_inputs[i][0,1] - slice_inputs[i][1,0])\n",
    "    m_diff_diagonals = tf.reshape(tensor_diff_diagonals.stack(), [length,1]) \n",
    "        \n",
    "    m_result = tf.TensorArray(tf.int64, size=0, dynamic_size=True)\n",
    "    for i in range(0, length, 2):\n",
    "        row_even = tf.concat([m_average[i], m_diff_rows[i], m_average[i+1], m_diff_rows[i+1]], 0)\n",
    "        row_odd = tf.concat([m_diff_cols[i], m_diff_diagonals[i], m_diff_cols[i+1], m_diff_diagonals[i+1]], 0)\n",
    "        m_result = m_result.write(i, row_even)\n",
    "        m_result = m_result.write(i+1, row_odd)\n",
    "    t = tf.reshape(m_result.stack(), [length, length])\n",
    "    print(t)\n",
    "    return t"
   ]
  },
  {
   "cell_type": "code",
   "execution_count": 133,
   "id": "a187ae0e-d371-4fa5-b9de-e99ac0dd47ce",
   "metadata": {
    "tags": []
   },
   "outputs": [
    {
     "name": "stdout",
     "output_type": "stream",
     "text": [
      "tf.Tensor(\n",
      "[[  5 -16  10 -16]\n",
      " [ -4   0  -4   0]\n",
      " [  6 -16   9 -16]\n",
      " [ -4   0  -4   0]], shape=(4, 4), dtype=int64)\n"
     ]
    },
    {
     "data": {
      "text/plain": [
       "<tf.Tensor: shape=(4, 4), dtype=int64, numpy=\n",
       "array([[  5, -16,  10, -16],\n",
       "       [ -4,   0,  -4,   0],\n",
       "       [  6, -16,   9, -16],\n",
       "       [ -4,   0,  -4,   0]])>"
      ]
     },
     "execution_count": 133,
     "metadata": {},
     "output_type": "execute_result"
    }
   ],
   "source": [
    "encode_haar(tensor_inputs)"
   ]
  },
  {
   "cell_type": "code",
   "execution_count": null,
   "id": "cf1bb77e",
   "metadata": {},
   "outputs": [],
   "source": []
  }
 ],
 "metadata": {
  "kernelspec": {
   "display_name": "Python 3 (ipykernel)",
   "language": "python",
   "name": "python3"
  }
 },
 "nbformat": 4,
 "nbformat_minor": 5
}
